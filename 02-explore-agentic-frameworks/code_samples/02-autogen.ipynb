{
 "cells": [
  {
   "cell_type": "markdown",
   "metadata": {},
   "source": [
    "# AutoGen Basic Sample \n",
    "\n",
    "In this code sample, you will use the [AutoGen](https://aka.ms/ai-agents/autogen) AI Framework to create a basic agent. \n",
    "\n",
    "The goal of this sample is to show you the steps that we will later use in the additional code samples when implementing the different agentic patterns. "
   ]
  },
  {
   "cell_type": "markdown",
   "metadata": {},
   "source": [
    "## Import the Needed Python Packages "
   ]
  },
  {
   "cell_type": "code",
   "execution_count": 1,
   "metadata": {},
   "outputs": [],
   "source": [
    "import os\n",
    "from dotenv import load_dotenv\n",
    "\n",
    "from autogen_agentchat.agents import AssistantAgent\n",
    "from autogen_core.models import UserMessage\n",
    "from autogen_ext.models.azure import AzureAIChatCompletionClient\n",
    "from azure.core.credentials import AzureKeyCredential\n",
    "from autogen_core import CancellationToken\n",
    "\n",
    "from autogen_agentchat.messages import TextMessage\n",
    "from autogen_agentchat.ui import Console\n"
   ]
  },
  {
   "cell_type": "markdown",
   "metadata": {},
   "source": [
    "## Create the Client \n",
    "\n",
    "In this sample, we will use [GitHub Models](https://aka.ms/ai-agents-beginners/github-models) for access to the LLM. \n",
    "\n",
    "The `model` is defined as `gpt-4o-mini`. Try changing the model to another model available on the GitHub Models marketplace to see the different results. \n",
    "\n",
    "As a quick test, we will just run a simple prompt - `What is the capital of France`. "
   ]
  },
  {
   "cell_type": "code",
   "execution_count": 2,
   "metadata": {},
   "outputs": [
    {
     "name": "stdout",
     "output_type": "stream",
     "text": [
      "finish_reason='stop' content='The capital of France is Paris.' usage=RequestUsage(prompt_tokens=14, completion_tokens=8) cached=False logprobs=None thought=None\n"
     ]
    }
   ],
   "source": [
    "load_dotenv()\n",
    "client = AzureAIChatCompletionClient(\n",
    "    model=\"gpt-4o-mini\",\n",
    "    endpoint=\"https://models.inference.ai.azure.com\",\n",
    "    # To authenticate with the model you will need to generate a personal access token (PAT) in your GitHub settings.\n",
    "    # Create your PAT token by following instructions here: https://docs.github.com/en/authentication/keeping-your-account-and-data-secure/managing-your-personal-access-tokens\n",
    "    credential=AzureKeyCredential(os.getenv(\"GITHUB_TOKEN\")),\n",
    "    model_info={\n",
    "        \"json_output\": True,\n",
    "        \"function_calling\": True,\n",
    "        \"vision\": True,\n",
    "        \"family\": \"unknown\",\n",
    "    },\n",
    ")\n",
    "\n",
    "result = await client.create([UserMessage(content=\"What is the capital of France?\", source=\"user\")])\n",
    "print(result)"
   ]
  },
  {
   "cell_type": "markdown",
   "metadata": {},
   "source": [
    "## Defining the Agent \n",
    "\n",
    "Now that we have set up the `client` and confirmed that it is working, let us create an `AssistantAgent`. Each agent can be assigned a: \n",
    "**name** - A short hand name that will be useful in referencing it in multi-agent flows. \n",
    "**model_client** - The client that you created in the earlier step. \n",
    "**tools** - Available tools that the Agent can use to complete a task.\n",
    "**system_message** - The metaprompt that defines the task, behavior and tone of the LLM. \n",
    "\n",
    "You can change the system message to see how the LLM responds. We will cover `tools` in Lesson #4. \n"
   ]
  },
  {
   "cell_type": "code",
   "execution_count": 3,
   "metadata": {},
   "outputs": [],
   "source": [
    "agent = AssistantAgent(\n",
    "    name=\"assistant\",\n",
    "    model_client=client,\n",
    "    tools=[],\n",
    "    system_message=\"You are a travel agent that plans great vacations\",\n",
    ")"
   ]
  },
  {
   "cell_type": "markdown",
   "metadata": {},
   "source": [
    "## Run the Agent \n",
    "\n",
    "The below function will run the agent. We use the the `on_message` method to update the Agent's state with the new message. \n",
    "\n",
    "In this case, we update the state with a new message from the user which is `\"Plan me a great sunny vacation\"`.\n",
    "\n",
    "You can change the message content to see how the LLM responds differently. "
   ]
  },
  {
   "cell_type": "code",
   "execution_count": 4,
   "metadata": {},
   "outputs": [
    {
     "data": {
      "text/html": [
       "<div style='margin-bottom:10px'><div style='font-weight:bold'>User:</div><div style='margin-left:20px'>Plan me a great sunny vacation</div></div><div style='margin-bottom:20px'><div style='font-weight:bold'>Assistant:</div><div style='margin-left:20px; white-space:pre-wrap'>Sure! Here’s a plan for a sunny vacation that combines relaxation, adventure, and beautiful scenery. I’m suggesting a trip to the stunning island of Maui in Hawaii.\n",
       "\n",
       "### Destination: Maui, Hawaii\n",
       "\n",
       "**Travel Dates:** (Choose dates that work for you; ideally a week)\n",
       "\n",
       "#### Itinerary Overview:\n",
       "\n",
       "**Day 1: Arrival in Maui**\n",
       "- Fly into Kahului Airport (OGG).\n",
       "- Rent a car (recommended for flexibility).\n",
       "- Check into a beachfront hotel or resort (like the Wailea Beach Resort or Hyatt Regency Maui).\n",
       "- Enjoy a relaxing evening on the beach, perhaps catching the sunset while sipping a tropical drink.\n",
       "\n",
       "**Day 2: Explore the Road to Hana**\n",
       "- Breakfast at a local café.\n",
       "- Drive the scenic Road to Hana, stopping at waterfalls, black sand beaches (like Waianapanapa State Park), and scenic lookout points.\n",
       "- Enjoy a picnic lunch at one of the scenic spots.\n",
       "- Return to your hotel in the evening.\n",
       "\n",
       "**Day 3: Relax on the Beach**\n",
       "- Spend the day at Kaanapali Beach or Wailea Beach.\n",
       "- Try snorkeling at the nearby Molokini Crater or black sand beaches.\n",
       "- Optional: Book a spa treatment for the afternoon.\n",
       "- Dinner at a beachfront restaurant like Leilani's on the Beach.\n",
       "\n",
       "**Day 4: Haleakalā National Park**\n",
       "- Early morning drive to Haleakalā National Park for a spectacular sunrise view.\n",
       "- Tour the park during the daylight: have breakfast at a local café afterward.\n",
       "- Afternoon return to your hotel for some downtime.\n",
       "- Dinner and stargazing in the evening or attend a traditional luau (like Old Lahaina Luau).\n",
       "\n",
       "**Day 5: Island Activities   \n",
       "- Whale watching tour (seasonal from December to April).\n",
       "- In the afternoon, go for a hike in the Iao Valley State Park.\n",
       "- Dinner at Mama’s Fish House (reserve a table in advance).\n",
       "\n",
       "**Day 6: Explore Local Culture**\n",
       "- Visit the town of Lahaina, explore local shops, and galleries.\n",
       "- Try out some local cuisine at eateries like Down the Hatch.\n",
       "- Optional: Sunset sailing tour or dinner cruise around the island.\n",
       "\n",
       "**Day 7: Departure**\n",
       "- Enjoy one last breakfast by the ocean.\n",
       "- Do some last-minute shopping for souvenirs.\n",
       "- Return your rental car and head to Kahului Airport for the flight home.\n",
       "\n",
       "### Additional Tips:\n",
       "- **Packing:** Don't forget sunscreen, swimwear, light clothing, hiking shoes, and a reusable water bottle.\n",
       "- **Transportation:** A rental car is highly recommended for convenience.\n",
       "- **Local Food:** Try poke bowls, shaved ice, and fresh seafood to experience local flavors.\n",
       "  \n",
       "This plan provides a mix of adventure, relaxation, and cultural experiences, ensuring a memorable sunny vacation! Would you like more information on accommodations or specific activities?</div></div>"
      ],
      "text/plain": [
       "<IPython.core.display.HTML object>"
      ]
     },
     "metadata": {},
     "output_type": "display_data"
    }
   ],
   "source": [
    "from IPython.display import display, HTML\n",
    "\n",
    "\n",
    "async def assistant_run():\n",
    "    # Define the query\n",
    "    user_query = \"Plan me a great sunny vacation\"\n",
    "\n",
    "    # Start building HTML output\n",
    "    html_output = \"<div style='margin-bottom:10px'>\"\n",
    "    html_output += \"<div style='font-weight:bold'>User:</div>\"\n",
    "    html_output += f\"<div style='margin-left:20px'>{user_query}</div>\"\n",
    "    html_output += \"</div>\"\n",
    "\n",
    "    # Execute the agent response\n",
    "    response = await agent.on_messages(\n",
    "        [TextMessage(content=user_query, source=\"user\")],\n",
    "        cancellation_token=CancellationToken(),\n",
    "    )\n",
    "\n",
    "    # Add agent response to HTML\n",
    "    html_output += \"<div style='margin-bottom:20px'>\"\n",
    "    html_output += \"<div style='font-weight:bold'>Assistant:</div>\"\n",
    "    html_output += f\"<div style='margin-left:20px; white-space:pre-wrap'>{response.chat_message.content}</div>\"\n",
    "    html_output += \"</div>\"\n",
    "\n",
    "    # Display formatted HTML\n",
    "    display(HTML(html_output))\n",
    "\n",
    "# Run the function\n",
    "await assistant_run()"
   ]
  }
 ],
 "metadata": {
  "kernelspec": {
   "display_name": ".venv",
   "language": "python",
   "name": "python3"
  },
  "language_info": {
   "codemirror_mode": {
    "name": "ipython",
    "version": 3
   },
   "file_extension": ".py",
   "mimetype": "text/x-python",
   "name": "python",
   "nbconvert_exporter": "python",
   "pygments_lexer": "ipython3",
   "version": "3.10.11"
  }
 },
 "nbformat": 4,
 "nbformat_minor": 2
}
